{
 "cells": [
  {
   "cell_type": "code",
   "execution_count": 1,
   "metadata": {},
   "outputs": [],
   "source": [
    "import librosa as lr\n",
    "import pandas as pd\n",
    "import numpy as np\n",
    "from glob import glob\n",
    "import matplotlib.pyplot as plt"
   ]
  },
  {
   "cell_type": "code",
   "execution_count": 2,
   "metadata": {},
   "outputs": [],
   "source": [
    "audio,sfreq=lr.load(\"C:\\\\Users\\\\TheBossDiwakar\\\\Desktop\\\\Audio\\\\Dogsound.wav\",duration=10.0)"
   ]
  },
  {
   "cell_type": "code",
   "execution_count": 3,
   "metadata": {},
   "outputs": [
    {
     "name": "stdout",
     "output_type": "stream",
     "text": [
      "float32\n",
      "(220500,)\n"
     ]
    }
   ],
   "source": [
    "audio\n",
    "print(audio.dtype)\n",
    "print(audio.shape)"
   ]
  },
  {
   "cell_type": "code",
   "execution_count": 4,
   "metadata": {},
   "outputs": [
    {
     "data": {
      "text/plain": [
       "22050"
      ]
     },
     "execution_count": 4,
     "metadata": {},
     "output_type": "execute_result"
    }
   ],
   "source": [
    "sfreq"
   ]
  },
  {
   "cell_type": "code",
   "execution_count": 5,
   "metadata": {},
   "outputs": [
    {
     "data": {
      "text/plain": [
       "array([0.00000000e+00, 4.53514739e-05, 9.07029478e-05, ...,\n",
       "       9.99986395e+00, 9.99990930e+00, 9.99995465e+00])"
      ]
     },
     "execution_count": 5,
     "metadata": {},
     "output_type": "execute_result"
    }
   ],
   "source": [
    "time=np.arange(0,len(audio))/sfreq\n",
    "time"
   ]
  },
  {
   "cell_type": "code",
   "execution_count": 6,
   "metadata": {},
   "outputs": [
    {
     "name": "stdout",
     "output_type": "stream",
     "text": [
      "220500\n",
      "220500\n"
     ]
    }
   ],
   "source": [
    "print(len(audio))\n",
    "print(len(time))"
   ]
  },
  {
   "cell_type": "code",
   "execution_count": 7,
   "metadata": {},
   "outputs": [
    {
     "data": {
      "image/png": "[encoded data removed]",
      "text/plain": [
       "<Figure size 432x288 with 1 Axes>"
      ]
     },
     "metadata": {
      "needs_background": "light"
     },
     "output_type": "display_data"
    }
   ],
   "source": [
    "fig,ax=plt.subplots()\n",
    "ax.plot(time,audio)\n",
    "ax.set(xlabel='Time s',ylabel='amplitude')\n",
    "plt.show()"
   ]
  },
  {
   "cell_type": "code",
   "execution_count": 8,
   "metadata": {},
   "outputs": [],
   "source": [
    "lr.output.write_wav('C:\\\\Users\\\\TheBossDiwakar\\\\Desktop\\\\Audio\\\\Dogsound_out.wav', audio, sfreq)"
   ]
  },
  {
   "cell_type": "code",
   "execution_count": 9,
   "metadata": {},
   "outputs": [
    {
     "name": "stdout",
     "output_type": "stream",
     "text": [
      "C:\\Users\\TheBossDiwakar\\Desktop\\Audio\\songs2\n"
     ]
    }
   ],
   "source": [
    "#help(AudioSegment\n",
    "import os\n",
    "os.chdir(\"C:\\\\Users\\\\TheBossDiwakar\\\\Desktop\\\\Audio\\\\songs2\\\\\")\n",
    "print(os.getcwd())"
   ]
  },
  {
   "cell_type": "code",
   "execution_count": 10,
   "metadata": {},
   "outputs": [],
   "source": [
    "#audio1,sfreq1=lr.load(\"C:\\\\Users\\\\TheBossDiwakar\\\\Desktop\\\\Audio\\\\aaromale\\\\kabirsingh.wav\",duration=15.0)\n",
    "audio2,sfreq2=lr.load(\"C:\\\\Users\\\\TheBossDiwakar\\\\Desktop\\\\Audio\\\\aaromale\\\\pachchaini.wav\",duration=15.0)\n",
    "audio1,sfreq1=lr.load(\"C:\\\\Users\\\\TheBossDiwakar\\\\Desktop\\\\Audio\\\\aaromale\\\\roja.wav\",duration=15.0)\n"
   ]
  },
  {
   "cell_type": "code",
   "execution_count": 11,
   "metadata": {},
   "outputs": [
    {
     "data": {
      "text/plain": [
       "array([0.00000000e+00, 4.53514739e-05, 9.07029478e-05, ...,\n",
       "       1.49998639e+01, 1.49999093e+01, 1.49999546e+01])"
      ]
     },
     "execution_count": 11,
     "metadata": {},
     "output_type": "execute_result"
    }
   ],
   "source": [
    "time1=np.arange(0,len(audio1))/sfreq1\n",
    "time2=np.arange(0,len(audio2))/sfreq2\n",
    "#time3=np.arange(0,len(audio3))/sfreq3\n",
    "time1"
   ]
  },
  {
   "cell_type": "code",
   "execution_count": 12,
   "metadata": {},
   "outputs": [
    {
     "name": "stdout",
     "output_type": "stream",
     "text": [
      "330750\n",
      "330750\n",
      "330750\n",
      "330750\n"
     ]
    }
   ],
   "source": [
    "print(len(audio1))\n",
    "print(len(time1))\n",
    "print(len(audio2))\n",
    "print(len(time2))\n",
    "#print(len(audio3))\n",
    "#print(len(time3))"
   ]
  },
  {
   "cell_type": "code",
   "execution_count": 16,
   "metadata": {},
   "outputs": [],
   "source": [
    "import tensorflow as tf\n",
    "import warnings\n",
    "warnings.filterwarnings('ignore')"
   ]
  },
  {
   "cell_type": "code",
   "execution_count": 17,
   "metadata": {},
   "outputs": [],
   "source": [
    "audio3 = np.nan_to_num(np.multiply(audio1,np.log(audio2)))\n",
    "df = pd.DataFrame(audio3)\n",
    "df['audio2']=audio2\n",
    "df['audio1']=audio1"
   ]
  },
  {
   "cell_type": "code",
   "execution_count": 18,
   "metadata": {},
   "outputs": [
    {
     "data": {
      "text/plain": [
       "(330750, 3)"
      ]
     },
     "execution_count": 18,
     "metadata": {},
     "output_type": "execute_result"
    }
   ],
   "source": [
    "df.shape"
   ]
  },
  {
   "cell_type": "code",
   "execution_count": 19,
   "metadata": {},
   "outputs": [
    {
     "data": {
      "text/plain": [
       "array([[ 0.        ,  0.        ,  0.        ],\n",
       "       [ 0.        ,  0.        ,  0.        ],\n",
       "       [ 0.        ,  0.        ,  0.        ],\n",
       "       ...,\n",
       "       [ 0.76805276,  0.00334896, -0.13476723],\n",
       "       [ 0.5438754 ,  0.02091424, -0.14063348],\n",
       "       [ 0.37982655,  0.05852873, -0.1338248 ]], dtype=float32)"
      ]
     },
     "execution_count": 19,
     "metadata": {},
     "output_type": "execute_result"
    }
   ],
   "source": [
    "x = df.values\n",
    "x"
   ]
  },
  {
   "cell_type": "code",
   "execution_count": 20,
   "metadata": {},
   "outputs": [],
   "source": [
    "tf.reset_default_graph()\n",
    "\n",
    "num_inputs=3    #28x28 pixels\n",
    "num_hid1=300\n",
    "num_hid2=150\n",
    "num_hid3=75\n",
    "num_hid4=36\n",
    "num_hid5=18\n",
    "num_hid6=9\n",
    "num_output=1\n",
    "lr=0.01\n",
    "actf=tf.nn.leaky_relu\n",
    "#actf=tf.nn.tanh\n",
    "\n",
    "X=tf.placeholder(tf.float32,shape=[None,num_inputs])\n",
    "initializer=tf.variance_scaling_initializer(scale=1.0, mode='fan_in', distribution='untruncated_normal',seed=123)\n",
    "\n",
    "w1=tf.Variable(initializer([num_inputs,num_hid1]),dtype=tf.float32)\n",
    "w2=tf.Variable(initializer([num_hid1,num_hid2]),dtype=tf.float32)\n",
    "w3=tf.Variable(initializer([num_hid2,num_hid3]),dtype=tf.float32)\n",
    "w4=tf.Variable(initializer([num_hid3,num_hid4]),dtype=tf.float32)\n",
    "w5=tf.Variable(initializer([num_hid4,num_hid5]),dtype=tf.float32)\n",
    "w6=tf.Variable(initializer([num_hid5,num_hid6]),dtype=tf.float32)\n",
    "w7=tf.Variable(initializer([num_hid6,num_output]),dtype=tf.float32)\n",
    "\n",
    "b1=tf.Variable(tf.ones(num_hid1))\n",
    "b2=tf.Variable(tf.ones(num_hid2))\n",
    "b3=tf.Variable(tf.ones(num_hid3))\n",
    "b4=tf.Variable(tf.ones(num_hid4))\n",
    "b5=tf.Variable(tf.ones(num_hid5))\n",
    "b6=tf.Variable(tf.ones(num_hid6))\n",
    "b7=tf.Variable(tf.ones(num_output))\n",
    "\n",
    "hid_layer1=actf(tf.matmul(X,w1)+b1)\n",
    "hid_layer2=actf(tf.matmul(hid_layer1,w2)+b2)\n",
    "hid_layer3=actf(tf.matmul(hid_layer2,w3)+b3)\n",
    "hid_layer4=actf(tf.matmul(hid_layer3,w4)+b4)\n",
    "hid_layer5=actf(tf.matmul(hid_layer4,w5)+b5)\n",
    "hid_layer6=actf(tf.matmul(hid_layer5,w6)+b6)\n",
    "output_layer=actf(tf.matmul(hid_layer6,w7)+b7)"
   ]
  },
  {
   "cell_type": "code",
   "execution_count": 21,
   "metadata": {},
   "outputs": [],
   "source": [
    "sess=tf.Session()\n",
    "init=tf.global_variables_initializer()\n",
    "sess.run(init)\n",
    "output2=sess.run(output_layer,{X:x})\n",
    "sess.close()"
   ]
  },
  {
   "cell_type": "code",
   "execution_count": 24,
   "metadata": {},
   "outputs": [],
   "source": [
    "import librosa as lr\n",
    "lr.output.write_wav('C:\\\\Users\\\\TheBossDiwakar\\\\Desktop\\\\Audio\\\\roja_aaromale.wav', output2 ,sfreq)"
   ]
  },
  {
   "cell_type": "code",
   "execution_count": 25,
   "metadata": {},
   "outputs": [
    {
     "data": {
      "image/png": "[encoded data removed]",
      "text/plain": [
       "<Figure size 432x288 with 1 Axes>"
      ]
     },
     "metadata": {
      "needs_background": "light"
     },
     "output_type": "display_data"
    }
   ],
   "source": [
    "fig,ax=plt.subplots()\n",
    "ax.plot(time1,audio1)\n",
    "ax.set(xlabel='Time s',ylabel='amplitude')\n",
    "plt.show()"
   ]
  },
  {
   "cell_type": "code",
   "execution_count": 26,
   "metadata": {},
   "outputs": [
    {
     "data": {
      "image/png": "[encoded data removed]",
      "text/plain": [
       "<Figure size 432x288 with 1 Axes>"
      ]
     },
     "metadata": {
      "needs_background": "light"
     },
     "output_type": "display_data"
    }
   ],
   "source": [
    "fig,ax=plt.subplots()\n",
    "ax.plot(time2,audio2)\n",
    "ax.set(xlabel='Time s',ylabel='amplitude')\n",
    "plt.show()"
   ]
  },
  {
   "cell_type": "code",
   "execution_count": 27,
   "metadata": {},
   "outputs": [
    {
     "ename": "NameError",
     "evalue": "name 'output1' is not defined",
     "output_type": "error",
     "traceback": [
      "\u001b[1;31m---------------------------------------------------------------------------\u001b[0m",
      "\u001b[1;31mNameError\u001b[0m                                 Traceback (most recent call last)",
      "\u001b[1;32m<ipython-input-27-07875cfc5786>\u001b[0m in \u001b[0;36m<module>\u001b[1;34m\u001b[0m\n\u001b[0;32m      1\u001b[0m \u001b[0mfig\u001b[0m\u001b[1;33m,\u001b[0m\u001b[0max\u001b[0m\u001b[1;33m=\u001b[0m\u001b[0mplt\u001b[0m\u001b[1;33m.\u001b[0m\u001b[0msubplots\u001b[0m\u001b[1;33m(\u001b[0m\u001b[1;33m)\u001b[0m\u001b[1;33m\u001b[0m\u001b[1;33m\u001b[0m\u001b[0m\n\u001b[1;32m----> 2\u001b[1;33m \u001b[0max\u001b[0m\u001b[1;33m.\u001b[0m\u001b[0mplot\u001b[0m\u001b[1;33m(\u001b[0m\u001b[0mtime2\u001b[0m\u001b[1;33m,\u001b[0m\u001b[0moutput1\u001b[0m\u001b[1;33m)\u001b[0m\u001b[1;33m\u001b[0m\u001b[1;33m\u001b[0m\u001b[0m\n\u001b[0m\u001b[0;32m      3\u001b[0m \u001b[0max\u001b[0m\u001b[1;33m.\u001b[0m\u001b[0mset\u001b[0m\u001b[1;33m(\u001b[0m\u001b[0mxlabel\u001b[0m\u001b[1;33m=\u001b[0m\u001b[1;34m'Time s'\u001b[0m\u001b[1;33m,\u001b[0m\u001b[0mylabel\u001b[0m\u001b[1;33m=\u001b[0m\u001b[1;34m'amplitude'\u001b[0m\u001b[1;33m)\u001b[0m\u001b[1;33m\u001b[0m\u001b[1;33m\u001b[0m\u001b[0m\n\u001b[0;32m      4\u001b[0m \u001b[0mplt\u001b[0m\u001b[1;33m.\u001b[0m\u001b[0mshow\u001b[0m\u001b[1;33m(\u001b[0m\u001b[1;33m)\u001b[0m\u001b[1;33m\u001b[0m\u001b[1;33m\u001b[0m\u001b[0m\n",
      "\u001b[1;31mNameError\u001b[0m: name 'output1' is not defined"
     ]
    },
    {
     "data": {
      "image/png": "[encoded data removed]",
      "text/plain": [
       "<Figure size 432x288 with 1 Axes>"
      ]
     },
     "metadata": {
      "needs_background": "light"
     },
     "output_type": "display_data"
    }
   ],
   "source": [
    "fig,ax=plt.subplots()\n",
    "ax.plot(time2,output1)\n",
    "ax.set(xlabel='Time s',ylabel='amplitude')\n",
    "plt.show()"
   ]
  },
  {
   "cell_type": "code",
   "execution_count": 28,
   "metadata": {},
   "outputs": [],
   "source": [
    "# Building the encoder\n",
    "def encoder(x):\n",
    "    # Encoder Hidden layer with sigmoid activation #1\n",
    "    layer_1 = tf.nn.sigmoid(tf.add(tf.matmul(x, weights['encoder_h1']),\n",
    "                                   biases['encoder_b1']))\n",
    "    # Encoder Hidden layer with sigmoid activation #2\n",
    "    layer_2 = tf.nn.sigmoid(tf.add(tf.matmul(layer_1, weights['encoder_h2']),\n",
    "                                   biases['encoder_b2']))\n",
    "    return layer_2\n"
   ]
  },
  {
   "cell_type": "code",
   "execution_count": 29,
   "metadata": {},
   "outputs": [],
   "source": [
    "# Building the decoder\n",
    "output=[]\n",
    "def decoder(x):\n",
    "    # Decoder Hidden layer with sigmoid activation #1\n",
    "    layer_1 = tf.nn.sigmoid(tf.add(tf.matmul(x, weights['decoder_h1']),\n",
    "                                   biases['decoder_b1']))\n",
    "    # Decoder Hidden layer with sigmoid activation #2\n",
    "    layer_2 = tf.nn.sigmoid(tf.add(tf.matmul(layer_1, weights['decoder_h2']),\n",
    "                                   biases['decoder_b2']))\n",
    "    #output=layer_2\n",
    "    return layer_2"
   ]
  },
  {
   "cell_type": "code",
   "execution_count": 30,
   "metadata": {},
   "outputs": [],
   "source": [
    "# Network Parameters\n",
    "num_hidden_1 = 10 # 1st layer num features\n",
    "num_hidden_2 = 5 # 2nd layer num features (the latent dim)\n",
    "num_input = 3 # MNIST data input (img shape: 28*28)\n",
    "\n",
    "# tf Graph input (only pictures)\n",
    "X = tf.placeholder(\"float\", [None, num_input])\n",
    "\n",
    "weights = {\n",
    "    'encoder_h1': tf.Variable(tf.random_normal([num_input, num_hidden_1])),\n",
    "    'encoder_h2': tf.Variable(tf.random_normal([num_hidden_1, num_hidden_2])),\n",
    "    'decoder_h1': tf.Variable(tf.random_normal([num_hidden_2, num_hidden_1])),\n",
    "    'decoder_h2': tf.Variable(tf.random_normal([num_hidden_1, 1])),\n",
    "}\n",
    "biases = {\n",
    "    'encoder_b1': tf.Variable(tf.random_normal([num_hidden_1])),\n",
    "    'encoder_b2': tf.Variable(tf.random_normal([num_hidden_2])),\n",
    "    'decoder_b1': tf.Variable(tf.random_normal([num_hidden_1])),\n",
    "    'decoder_b2': tf.Variable(tf.random_normal([1])),\n",
    "}"
   ]
  },
  {
   "cell_type": "code",
   "execution_count": 31,
   "metadata": {},
   "outputs": [],
   "source": [
    "# Construct model\n",
    "encoder_op = encoder(x)\n",
    "decoder_op = decoder(encoder_op)\n",
    "\n",
    "# Prediction\n",
    "#y_pred = decoder_op\n",
    "# Targets (Labels) are the input data.\n",
    "#y_true = X"
   ]
  }
 ],
 "metadata": {
  "kernelspec": {
   "display_name": "Python 3",
   "language": "python",
   "name": "python3"
  },
  "language_info": {
   "codemirror_mode": {
    "name": "ipython",
    "version": 3
   },
   "file_extension": ".py",
   "mimetype": "text/x-python",
   "name": "python",
   "nbconvert_exporter": "python",
   "pygments_lexer": "ipython3",
   "version": "3.7.3"
  }
 },
 "nbformat": 4,
 "nbformat_minor": 2
}
